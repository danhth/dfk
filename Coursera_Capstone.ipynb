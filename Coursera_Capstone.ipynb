{
  "nbformat": 4,
  "nbformat_minor": 0,
  "metadata": {
    "colab": {
      "name": "Coursera_Capstone.ipynb",
      "provenance": [],
      "collapsed_sections": [],
      "toc_visible": true,
      "authorship_tag": "ABX9TyMnMWT9xpZmQEtcwxWoBWCt",
      "include_colab_link": true
    },
    "kernelspec": {
      "name": "python3",
      "display_name": "Python 3"
    }
  },
  "cells": [
    {
      "cell_type": "markdown",
      "metadata": {
        "id": "view-in-github",
        "colab_type": "text"
      },
      "source": [
        "<a href=\"https://colab.research.google.com/github/danhth/dfk/blob/master/Coursera_Capstone.ipynb\" target=\"_parent\"><img src=\"https://colab.research.google.com/assets/colab-badge.svg\" alt=\"Open In Colab\"/></a>"
      ]
    },
    {
      "cell_type": "markdown",
      "metadata": {
        "id": "9ePPyaVioJsY",
        "colab_type": "text"
      },
      "source": [
        "** -- IBM DATA SCIENCE CAPSTONE PROJECT --**\n",
        "\n",
        "--------------------------------------------\n",
        "# **The Notebook aims to track all work related to the final assigment of IBM Data Science Capstone Project - IBM vs Coursera**\n",
        "----------------------------------------------\n",
        "\n",
        "In summary, the notebook includes:\n",
        "\n",
        "\n",
        "1.  Work Description in Details\n",
        "2.  The project description\n",
        "3.  Problem Statement\n",
        "4.  Proposed solutions which apply possible learned knowledge and skills in data scince from the previous courses\n",
        "5. Codes\n",
        "6. Final report\n",
        "\n",
        "\n"
      ]
    },
    {
      "cell_type": "code",
      "metadata": {
        "id": "7oKhZG8xFWuw",
        "colab_type": "code",
        "colab": {
          "base_uri": "https://localhost:8080/",
          "height": 34
        },
        "outputId": "d9694de1-490b-4375-b243-f7b3de22dbd6"
      },
      "source": [
        "# Import required libraries\n",
        "import pandas as pd\n",
        "import numpy as np\n",
        "print(\"Hello Capstone Project Course!\")"
      ],
      "execution_count": 1,
      "outputs": [
        {
          "output_type": "stream",
          "text": [
            "Hello Capstone Project Course!\n"
          ],
          "name": "stdout"
        }
      ]
    },
    {
      "cell_type": "markdown",
      "metadata": {
        "id": "MQ3iEzliDSG0",
        "colab_type": "text"
      },
      "source": [
        ""
      ]
    }
  ]
}